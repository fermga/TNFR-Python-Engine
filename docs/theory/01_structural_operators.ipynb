{
 "cells": [
  {
   "cell_type": "markdown",
   "id": "e4aef8ff",
   "metadata": {},
   "source": [
    "# Structural Operators in the Mathematical Layer"
   ]
  },
  {
   "cell_type": "markdown",
   "id": "d5858951",
   "metadata": {},
   "source": [
    "## Objectives\n",
    "- Introduce canonical operators implemented in tnfr.mathematics.\n",
    "- Demonstrate how operator factories enforce invariants and closure.\n",
    "- Highlight how operator composition respects structural semantics."
   ]
  },
  {
   "cell_type": "markdown",
   "id": "759cbc98",
   "metadata": {},
   "source": [
    "## Dependencies\n",
    "- `numpy`\n",
    "- `tnfr`"
   ]
  },
  {
   "cell_type": "markdown",
   "id": "45b81584",
   "metadata": {},
   "source": [
    "## TNFR Context\n",
    "Operators such as CoherenceOperator and FrequencyOperator embed TNFR semantics directly into their evaluation.\n",
    "\n",
    "Factories like make_coherence_operator guarantee parameter validation and consistent units.\n",
    "\n",
    "Operator composition is tracked so that ΔNFR updates remain interpretable and auditable."
   ]
  },
  {
   "cell_type": "code",
   "execution_count": null,
   "id": "1069cd2c",
   "metadata": {
    "tags": [
     "smoke-example"
    ]
   },
   "outputs": [],
   "source": [
    "from tnfr.mathematics import make_coherence_operator\n",
    "operator = make_coherence_operator(dim=2, c_min=0.2)\n",
    "print(round(operator.c_min, 2))"
   ]
  }
 ],
 "metadata": {
  "kernelspec": {
   "display_name": "Python 3",
   "language": "python",
   "name": "python3"
  },
  "language_info": {
   "name": "python",
   "version": "3.11"
  }
 },
 "nbformat": 4,
 "nbformat_minor": 5
}
