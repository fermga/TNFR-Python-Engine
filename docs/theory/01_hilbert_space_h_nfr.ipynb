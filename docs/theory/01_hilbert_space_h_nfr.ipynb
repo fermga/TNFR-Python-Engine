{
 "cells": [
  {
   "cell_type": "markdown",
   "id": "b21636fb",
   "metadata": {},
   "source": [
    "# Hilbert space for TNFR states\n",
    "\n",
    "TNFR spectral states inhabit finite-dimensional Hilbert spaces that combine discrete resonant modes with continuous projections. Working in an orthonormal basis keeps expectation values and norms mechanically stable."
   ]
  },
  {
   "cell_type": "markdown",
   "id": "bebe8563",
   "metadata": {},
   "source": [
    "## Canonical structure\n",
    "\n",
    "* Vectors live on the Hilbert sphere so coherence operators act predictably.\n",
    "* Inner products use the sesquilinear form ⟨ψ, φ⟩.\n",
    "* Projections return coordinates relative to any supplied orthonormal basis."
   ]
  },
  {
   "cell_type": "markdown",
   "id": "0539ce70",
   "metadata": {},
   "source": [
    "### Finite $\\ell^2 \\otimes L^2$ realisation\n",
    "The TNFR engine realises $H_{\\text{NFR}}$ as a finite section of the coupled discrete/continuous spectrum.  ``tnfr.mathematics.spaces.HilbertSpace`` provides the truncated $\\ell^2$ factor with a canonical orthonormal basis and sesquilinear inner product implemented via ``numpy.vdot``.  The complementary ``tnfr.mathematics.spaces.BanachSpaceEPI`` packages the sampled $L^2$ continuum and associated coherence functional so that spectral vectors can be paired with continuous envelopes.  Together these classes make the tensor-product section explicit: ``HilbertSpace`` handles discrete projections, while ``BanachSpaceEPI`` validates and weights the continuous samples, ensuring the resulting state stays faithful to the $\\ell^2 \\otimes L^2$ geometry used throughout the operators."
   ]
  },
  {
   "cell_type": "markdown",
   "id": "27ddbaed",
   "metadata": {},
   "source": [
    "## Smoke check: norms and expectations\n",
    "\n",
    "The next cell computes norms and a coherence expectation value for a simple three-dimensional state. The calculation stays deterministic and exercises the mathematics helpers used throughout the engine."
   ]
  },
  {
   "cell_type": "code",
   "execution_count": null,
   "id": "69fc04a6",
   "metadata": {},
   "outputs": [],
   "source": [
    "import numpy as np\n",
    "\n",
    "from tnfr.mathematics.operators import CoherenceOperator\n",
    "from tnfr.mathematics.runtime import coherence_expectation\n",
    "from tnfr.mathematics.spaces import HilbertSpace\n",
    "\n",
    "space = HilbertSpace(dimension=3)\n",
    "psi = np.array([1.0, 0.0, 0.0], dtype=np.complex128)\n",
    "phi = np.array([1.0, 1.0, 0.5], dtype=np.complex128)\n",
    "phi = phi / space.norm(phi)\n",
    "\n",
    "inner = space.inner_product(psi, phi)\n",
    "norm_phi = space.norm(phi)\n",
    "coherence_operator = CoherenceOperator([0.8, 0.6, 0.3])\n",
    "coherence_value = coherence_expectation(phi, coherence_operator, normalise=False)\n",
    "\n",
    "{\n",
    "    \"⟨ψ|φ⟩\": complex(round(inner.real, 6) + 1j * round(inner.imag, 6)),\n",
    "    \"‖φ‖\": round(norm_phi, 6),\n",
    "    \"coherence\": round(coherence_value, 6),\n",
    "    \"c_min\": round(coherence_operator.c_min, 6),\n",
    "}\n"
   ]
  },
  {
   "cell_type": "markdown",
   "id": "c7da2d01",
   "metadata": {},
   "source": [
    "## Deterministic Hilbert-space validation\n",
    "The following smoke cell checks the norm homogeneity and triangle inequality on fixed vectors and confirms that projections onto an orthonormal basis reproduce the original state, all within the ``HilbertSpace`` abstraction."
   ]
  },
  {
   "cell_type": "code",
   "execution_count": null,
   "id": "633e0c35",
   "metadata": {},
   "outputs": [],
   "source": [
    "import numpy as np\n",
    "from tnfr.mathematics.spaces import HilbertSpace\n",
    "\n",
    "space = HilbertSpace(dimension=3)\n",
    "psi = np.array([1.0 + 0.0j, 0.5 - 0.25j, -0.5j], dtype=np.complex128)\n",
    "scalar = 0.75 - 0.5j\n",
    "homogeneity_lhs = space.norm(scalar * psi)\n",
    "homogeneity_rhs = abs(scalar) * space.norm(psi)\n",
    "\n",
    "u = np.array([0.8 + 0.0j, -0.2 + 0.1j, 0.3 - 0.4j], dtype=np.complex128)\n",
    "v = np.array([-0.3 + 0.2j, 0.4 + 0.0j, -0.1 + 0.1j], dtype=np.complex128)\n",
    "triangle_lhs = space.norm(u + v)\n",
    "triangle_rhs = space.norm(u) + space.norm(v)\n",
    "\n",
    "basis = [\n",
    "    np.array([1.0, 0.0, 0.0], dtype=np.complex128),\n",
    "    np.array([0.0, 1 / np.sqrt(2), 1 / np.sqrt(2)], dtype=np.complex128),\n",
    "    np.array([0.0, 1 / np.sqrt(2), -1 / np.sqrt(2)], dtype=np.complex128),\n",
    "]\n",
    "coefficients = space.project(psi, basis)\n",
    "basis_matrix = np.vstack(basis)\n",
    "reconstruction = basis_matrix.conj().T @ coefficients\n",
    "projection_error = float(np.max(np.abs(reconstruction - psi)))\n",
    "\n",
    "{\n",
    "    'homogeneity_diff': round(homogeneity_lhs - homogeneity_rhs, 12),\n",
    "    'triangle_gap': round(triangle_lhs - triangle_rhs, 12),\n",
    "    'projection_error': round(projection_error, 12),\n",
    "    'coefficients': [complex(round(c.real, 6), round(c.imag, 6)) for c in coefficients],\n",
    "}\n"
   ]
  }
 ],
 "metadata": {
  "kernelspec": {
   "display_name": "Python 3",
   "language": "python",
   "name": "python3"
  },
  "language_info": {
   "name": "python",
   "version": "3.11"
  }
 },
 "nbformat": 4,
 "nbformat_minor": 5
}
