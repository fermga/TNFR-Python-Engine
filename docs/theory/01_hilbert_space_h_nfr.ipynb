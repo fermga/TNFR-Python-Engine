{
 "cells": [
  {
   "cell_type": "markdown",
   "id": "b21636fb",
   "metadata": {},
   "source": [
    "# Hilbert space for TNFR states\n",
    "\n",
    "TNFR spectral states inhabit finite-dimensional Hilbert spaces that combine discrete resonant modes with continuous projections. Working in an orthonormal basis keeps expectation values and norms mechanically stable."
   ]
  },
  {
   "cell_type": "markdown",
   "id": "bebe8563",
   "metadata": {},
   "source": [
    "## Canonical structure\n",
    "\n",
    "* Vectors live on the Hilbert sphere so coherence operators act predictably.\n",
    "* Inner products use the sesquilinear form ⟨ψ, φ⟩.\n",
    "* Projections return coordinates relative to any supplied orthonormal basis."
   ]
  },
  {
   "cell_type": "markdown",
   "id": "27ddbaed",
   "metadata": {},
   "source": [
    "## Smoke check: norms and expectations\n",
    "\n",
    "The next cell computes norms and a coherence expectation value for a simple three-dimensional state. The calculation stays deterministic and exercises the mathematics helpers used throughout the engine."
   ]
  },
  {
   "cell_type": "code",
   "execution_count": null,
   "id": "69fc04a6",
   "metadata": {},
   "outputs": [],
   "source": [
    "import numpy as np\n",
    "\n",
    "from tnfr.mathematics.operators import CoherenceOperator\n",
    "from tnfr.mathematics.runtime import coherence_expectation\n",
    "from tnfr.mathematics.spaces import HilbertSpace\n",
    "\n",
    "space = HilbertSpace(dimension=3)\n",
    "psi = np.array([1.0, 0.0, 0.0], dtype=np.complex128)\n",
    "phi = np.array([1.0, 1.0, 0.5], dtype=np.complex128)\n",
    "phi = phi / space.norm(phi)\n",
    "\n",
    "inner = space.inner_product(psi, phi)\n",
    "norm_phi = space.norm(phi)\n",
    "coherence_operator = CoherenceOperator([0.8, 0.6, 0.3])\n",
    "coherence_value = coherence_expectation(phi, coherence_operator, normalise=False)\n",
    "\n",
    "{\n",
    "    \"⟨ψ|φ⟩\": complex(round(inner.real, 6) + 1j * round(inner.imag, 6)),\n",
    "    \"‖φ‖\": round(norm_phi, 6),\n",
    "    \"coherence\": round(coherence_value, 6),\n",
    "    \"c_min\": round(coherence_operator.c_min, 6),\n",
    "}\n"
   ]
  }
 ],
 "metadata": {
  "kernelspec": {
   "display_name": "Python 3",
   "language": "python",
   "name": "python3"
  },
  "language_info": {
   "name": "python",
   "version": "3.11"
  }
 },
 "nbformat": 4,
 "nbformat_minor": 5
}