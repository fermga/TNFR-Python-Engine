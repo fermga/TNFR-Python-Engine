{
 "cells": [
  {
   "cell_type": "markdown",
   "id": "0f0428bf",
   "metadata": {},
   "source": [
    "# Dissonance Tests and Bifurcation Safety"
   ]
  },
  {
   "cell_type": "markdown",
   "id": "69e96da9",
   "metadata": {},
   "source": [
    "## Objectives\n",
    "- Describe how controlled dissonance increases |ΔNFR|.\n",
    "- Show how second derivatives gate bifurcation triggers.\n",
    "- Provide safety checks for experiments exploring collapse."
   ]
  },
  {
   "cell_type": "markdown",
   "id": "e055e309",
   "metadata": {},
   "source": [
    "## Dependencies\n",
    "- `numpy`\n",
    "- `tnfr`"
   ]
  },
  {
   "cell_type": "markdown",
   "id": "13f0cb37",
   "metadata": {},
   "source": [
    "## TNFR Context\n",
    "Dissonance operators deliberately amplify ΔNFR, but the mathematics layer keeps track of νf bounds.\n",
    "\n",
    "Bifurcation thresholds rely on comparing ∂²EPI/∂t² against configured tolerances.\n",
    "\n",
    "Smoke simulations should log both the trigger condition and post-event coherence."
   ]
  },
  {
   "cell_type": "code",
   "execution_count": null,
   "id": "1298465d",
   "metadata": {
    "tags": [
     "smoke-example"
    ]
   },
   "outputs": [],
   "source": [
    "from tnfr.constants import DNFR_PRIMARY\n",
    "from tnfr.dynamics import set_delta_nfr_hook\n",
    "from tnfr.structural import Dissonance, create_nfr, run_sequence\n",
    "\n",
    "G, node = create_nfr(\"probe\")\n",
    "\n",
    "def escalate(graph):\n",
    "    graph.nodes[node][DNFR_PRIMARY] += 0.2\n",
    "\n",
    "set_delta_nfr_hook(G, escalate)\n",
    "run_sequence(G, node, [Dissonance()])\n",
    "print(round(G.nodes[node][DNFR_PRIMARY], 2))"
   ]
  }
 ],
 "metadata": {
  "kernelspec": {
   "display_name": "Python 3",
   "language": "python",
   "name": "python3"
  },
  "language_info": {
   "name": "python",
   "version": "3.11"
  }
 },
 "nbformat": 4,
 "nbformat_minor": 5
}
