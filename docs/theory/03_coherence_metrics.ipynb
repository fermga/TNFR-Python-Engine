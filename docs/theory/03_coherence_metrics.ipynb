{
 "cells": [
  {
   "cell_type": "markdown",
   "id": "e28ea056",
   "metadata": {},
   "source": [
    "# Coherence Metrics and Logging"
   ]
  },
  {
   "cell_type": "markdown",
   "id": "0ac6d0da",
   "metadata": {},
   "source": [
    "## Objectives\n",
    "- Outline telemetry available for coherence monitoring.\n",
    "- Connect metrics to mathematical projections and norms.\n",
    "- Demonstrate how to collect minimal smoke-test telemetry."
   ]
  },
  {
   "cell_type": "markdown",
   "id": "e0ed551f",
   "metadata": {},
   "source": [
    "## Dependencies\n",
    "- `numpy`\n",
    "- `tnfr`"
   ]
  },
  {
   "cell_type": "markdown",
   "id": "c967fc87",
   "metadata": {},
   "source": [
    "## TNFR Context\n",
    "coherence_expectation and frequency_expectation provide scalar diagnostics tied to Hilbert projections.\n",
    "\n",
    "Telemetry streams capture C(t), νf, Si, and phase for downstream visualization.\n",
    "\n",
    "Logging hooks in tnfr.telemetry integrate with the mathematics layer to ensure reproducibility."
   ]
  },
  {
   "cell_type": "code",
   "execution_count": null,
   "id": "1d7318c4",
   "metadata": {
    "tags": [
     "smoke-example"
    ]
   },
   "outputs": [],
   "source": [
    "import numpy as np\n",
    "from tnfr.mathematics import HilbertSpace, coherence_expectation, make_coherence_operator\n",
    "\n",
    "space = HilbertSpace(dimension=2)\n",
    "operator = make_coherence_operator(dim=2, c_min=0.4)\n",
    "state = np.array([1.0, 0.0])\n",
    "print(round(coherence_expectation(state, operator), 2))"
   ]
  }
 ],
 "metadata": {
  "kernelspec": {
   "display_name": "Python 3",
   "language": "python",
   "name": "python3"
  },
  "language_info": {
   "name": "python",
   "version": "3.11"
  }
 },
 "nbformat": 4,
 "nbformat_minor": 5
}
