{
 "cells": [
  {
   "cell_type": "markdown",
   "id": "a9f577bb",
   "metadata": {},
   "source": [
    "# Frequency operator Ĵ\n",
    "\n",
    "The frequency operator captures how structural frequency νf is distributed across spectral modes. Its spectrum must remain non-negative so the projected νf keeps physical meaning."
   ]
  },
  {
   "cell_type": "markdown",
   "id": "d230135e",
   "metadata": {},
   "source": [
    "## Operator semantics\n",
    "\n",
    "* Hermitian construction ensures real eigenvalues.\n",
    "* Expectation values return the effective νf observed on a state.\n",
    "* Spectral bandwidth highlights how widely νf spreads across modes."
   ]
  },
  {
   "cell_type": "markdown",
   "id": "26570dc9",
   "metadata": {},
   "source": [
    "## Smoke check: νf projection\n",
    "\n",
    "The cell below assembles a diagonal frequency operator and projects a normalized state onto it, verifying that the reported νf stays within the spectral bounds."
   ]
  },
  {
   "cell_type": "code",
   "execution_count": null,
   "id": "d0d76490",
   "metadata": {},
   "outputs": [],
   "source": [
    "import numpy as np\n",
    "\n",
    "from tnfr.mathematics.operators import FrequencyOperator\n",
    "from tnfr.mathematics.runtime import frequency_expectation\n",
    "from tnfr.mathematics.spaces import HilbertSpace\n",
    "\n",
    "operator = FrequencyOperator([1.2, 0.9, 0.5])\n",
    "space = HilbertSpace(dimension=3)\n",
    "state = np.array([0.7, 0.4, 0.2], dtype=np.complex128)\n",
    "state = state / space.norm(state)\n",
    "\n",
    "projection = frequency_expectation(state, operator, normalise=False)\n",
    "spectrum = operator.spectrum()\n",
    "\n",
    "{\n",
    "    \"νf_projection\": round(projection, 6),\n",
    "    \"spectrum_min\": round(float(spectrum.min()), 6),\n",
    "    \"spectrum_max\": round(float(spectrum.max()), 6),\n",
    "    \"positive_semidefinite\": bool(operator.is_positive_semidefinite()),\n",
    "}\n"
   ]
  }
 ],
 "metadata": {
  "kernelspec": {
   "display_name": "Python 3",
   "language": "python",
   "name": "python3"
  },
  "language_info": {
   "name": "python",
   "version": "3.11"
  }
 },
 "nbformat": 4,
 "nbformat_minor": 5
}