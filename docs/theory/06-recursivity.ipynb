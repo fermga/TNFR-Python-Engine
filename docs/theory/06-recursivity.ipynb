{
  "cells": [
    {
      "cell_type": "markdown",
      "metadata": {},
      "id": "3dfbce55759f43a18ae31ed16b89eb7b",
      "source": [
        "# Recursivity cascades\n",
        "\n",
        "TODO: Outline the notebook narrative, learning goals, and TNFR invariants to cover.\n"
      ]
    },
    {
      "cell_type": "code",
      "execution_count": null,
      "metadata": {},
      "id": "6ccee369318f4f6eb88a2244849b3f47",
      "outputs": [],
      "source": [
        "# TODO: implement walkthrough cells\n"
      ]
    }
  ],
  "metadata": {
    "kernelspec": {
      "display_name": "Python 3",
      "language": "python",
      "name": "python3"
    },
    "language_info": {
      "name": "python",
      "version": "3.11",
      "mimetype": "text/x-python",
      "codemirror_mode": {
        "name": "ipython",
        "version": 3
      },
      "pygments_lexer": "ipython3"
    }
  },
  "nbformat": 4,
  "nbformat_minor": 5
}
