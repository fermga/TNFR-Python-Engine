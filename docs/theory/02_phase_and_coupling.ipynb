{
 "cells": [
  {
   "cell_type": "markdown",
   "id": "2c4c6dd3",
   "metadata": {},
   "source": [
    "# Phase Alignment and Coupling Checks"
   ]
  },
  {
   "cell_type": "markdown",
   "id": "df157e8a",
   "metadata": {},
   "source": [
    "## Objectives\n",
    "- Explain why phase verification precedes any resonance coupling.\n",
    "- Show how the mathematics package encodes coupling thresholds.\n",
    "- Relate coupling logs to global coherence monitoring."
   ]
  },
  {
   "cell_type": "markdown",
   "id": "0185a4ad",
   "metadata": {},
   "source": [
    "## Dependencies\n",
    "- `numpy`\n",
    "- `tnfr`"
   ]
  },
  {
   "cell_type": "markdown",
   "id": "6cd310e5",
   "metadata": {},
   "source": [
    "## TNFR Context\n",
    "Phase is stored explicitly so that resonance only occurs when nodes synchronize within tolerance.\n",
    "\n",
    "Coupling utilities rely on ΔNFR hooks that adjust structural frequency together with phase drift.\n",
    "\n",
    "Phase-aware updates prevent hidden collapse events in multi-node simulations."
   ]
  },
  {
   "cell_type": "code",
   "execution_count": null,
   "id": "2e62cdc1",
   "metadata": {
    "tags": [
     "smoke-example"
    ]
   },
   "outputs": [],
   "source": [
    "from tnfr.constants import DNFR_PRIMARY, THETA_PRIMARY, VF_PRIMARY\n",
    "from tnfr.dynamics import set_delta_nfr_hook\n",
    "from tnfr.structural import Coupling, create_nfr, run_sequence\n",
    "\n",
    "G, node = create_nfr(\"pair\", vf=1.0, theta=0.2)\n",
    "\n",
    "def sync(graph):\n",
    "    graph.nodes[node][DNFR_PRIMARY] = 0.01\n",
    "    graph.nodes[node][THETA_PRIMARY] += 0.02\n",
    "    graph.nodes[node][VF_PRIMARY] += 0.05\n",
    "\n",
    "set_delta_nfr_hook(G, sync)\n",
    "run_sequence(G, node, [Coupling()])\n",
    "print(round(G.nodes[node][THETA_PRIMARY], 2))"
   ]
  }
 ],
 "metadata": {
  "kernelspec": {
   "display_name": "Python 3",
   "language": "python",
   "name": "python3"
  },
  "language_info": {
   "name": "python",
   "version": "3.11"
  }
 },
 "nbformat": 4,
 "nbformat_minor": 5
}
