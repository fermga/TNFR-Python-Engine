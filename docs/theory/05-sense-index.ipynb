{
  "cells": [
    {
      "cell_type": "markdown",
      "metadata": {},
      "id": "f50b345ca83c4c1f8fa76858d34d8837",
      "source": [
        "# Sense index calibration\n",
        "\n",
        "TODO: Outline the notebook narrative, learning goals, and TNFR invariants to cover.\n"
      ]
    },
    {
      "cell_type": "code",
      "execution_count": null,
      "metadata": {},
      "id": "5efc426110324463add2f2340900132f",
      "outputs": [],
      "source": [
        "# TODO: implement walkthrough cells\n"
      ]
    }
  ],
  "metadata": {
    "kernelspec": {
      "display_name": "Python 3",
      "language": "python",
      "name": "python3"
    },
    "language_info": {
      "name": "python",
      "version": "3.11",
      "mimetype": "text/x-python",
      "codemirror_mode": {
        "name": "ipython",
        "version": 3
      },
      "pygments_lexer": "ipython3"
    }
  },
  "nbformat": 4,
  "nbformat_minor": 5
}
