{
  "cells": [
    {
      "cell_type": "markdown",
      "metadata": {},
      "id": "921689c2f47d4ac3b7f8d8e42a1f72f5",
      "source": [
        "# Structural frequency primer\n",
        "\n",
        "TODO: Outline the notebook narrative, learning goals, and TNFR invariants to cover.\n"
      ]
    },
    {
      "cell_type": "code",
      "execution_count": null,
      "metadata": {},
      "id": "3e517d30d3de495f90feddaff1ebe9bf",
      "outputs": [],
      "source": [
        "# TODO: implement walkthrough cells\n"
      ]
    }
  ],
  "metadata": {
    "kernelspec": {
      "display_name": "Python 3",
      "language": "python",
      "name": "python3"
    },
    "language_info": {
      "name": "python",
      "version": "3.11",
      "mimetype": "text/x-python",
      "codemirror_mode": {
        "name": "ipython",
        "version": 3
      },
      "pygments_lexer": "ipython3"
    }
  },
  "nbformat": 4,
  "nbformat_minor": 5
}
