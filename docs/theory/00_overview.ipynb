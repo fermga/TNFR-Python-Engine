{
 "cells": [
  {
   "cell_type": "markdown",
   "id": "3760173d",
   "metadata": {},
   "source": [
    "# TNFR Mathematical Foundations Overview"
   ]
  },
  {
   "cell_type": "markdown",
   "id": "b4d74121",
   "metadata": {},
   "source": [
    "## Objectives\n",
    "- Summarize how TNFR encodes coherence in mathematical terms.\n",
    "- Clarify the relationship between EPI, structural frequency νf, and ΔNFR.\n",
    "- Provide navigation tips for the remaining notebooks."
   ]
  },
  {
   "cell_type": "markdown",
   "id": "84be7643",
   "metadata": {},
   "source": [
    "## Dependencies\n",
    "- `numpy`\n",
    "- `tnfr`"
   ]
  },
  {
   "cell_type": "markdown",
   "id": "bfa00e08",
   "metadata": {},
   "source": [
    "## TNFR Context\n",
    "The TNFR engine models coherence through structured transformations operating on Primary Information Structures (EPIs).\n",
    "\n",
    "Structural frequency νf, expressed in Hz_str, quantifies how quickly an EPI reorganizes under the action of operators.\n",
    "\n",
    "ΔNFR serves as the intrinsic reorganization driver; its controlled modulation keeps coherence monotonic when desired."
   ]
  },
  {
   "cell_type": "code",
   "execution_count": null,
   "id": "041c4535",
   "metadata": {
    "tags": [
     "smoke-example"
    ]
   },
   "outputs": [],
   "source": [
    "from tnfr.mathematics import HilbertSpace\n",
    "space = HilbertSpace(dimension=2)\n",
    "vector = [1.0, 0.0]\n",
    "print(space.is_normalized(vector))"
   ]
  }
 ],
 "metadata": {
  "kernelspec": {
   "display_name": "Python 3",
   "language": "python",
   "name": "python3"
  },
  "language_info": {
   "name": "python",
   "version": "3.11"
  }
 },
 "nbformat": 4,
 "nbformat_minor": 5
}
