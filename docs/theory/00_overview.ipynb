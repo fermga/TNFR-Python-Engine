{
 "cells": [
  {
   "cell_type": "markdown",
   "id": "bf152bc2",
   "metadata": {},
   "source": [
    "# TNFR overview\n",
    "\n",
    "This notebook summarises the canonical moving parts of the Transcendent Nodal Fractal Resonance (TNFR) paradigm. The focus is on how the Primary Information Structure (EPI), structural frequency (νf) and the internal reorganiser ΔNFR weave together to sustain coherent nodes."
   ]
  },
  {
   "cell_type": "markdown",
   "id": "4cb11a37",
   "metadata": {},
   "source": [
    "## Canonical invariants\n",
    "\n",
    "* **EPI coherence** — the node persists only if the Primary Information Structure tracks the ΔNFR-driven reorganisations.\n",
    "* **Structural frequency νf** — expressed in Hz_str; it regulates how rapidly the node adapts to operator inputs.\n",
    "* **Phase alignment** — operators must respect phase synchrony to keep resonance valid.\n",
    "* **ΔNFR logging** — every structural trajectory must expose the ΔNFR contribution applied at each step."
   ]
  },
  {
   "cell_type": "markdown",
   "id": "0da25765",
   "metadata": {},
   "source": [
    "## Smoke check: scripted coherence evolution\n",
    "\n",
    "The example below instantiates a node, attaches a deterministic ΔNFR hook and executes a short trajectory. The hook mirrors a minimal telemetry trace by keeping EPI, νf and the stored ΔNFR aligned after each operator."
   ]
  },
  {
   "cell_type": "code",
   "execution_count": null,
   "id": "bc63b999",
   "metadata": {},
   "outputs": [],
   "source": [
    "from tnfr.constants import DNFR_PRIMARY, EPI_PRIMARY, THETA_PRIMARY, VF_PRIMARY\n",
    "from tnfr.dynamics import set_delta_nfr_hook\n",
    "from tnfr.structural import Coherence, Emission, Reception, Resonance, Transition, create_nfr, run_sequence\n",
    "\n",
    "G, node = create_nfr(\"overview-seed\", epi=0.72, vf=1.1, theta=0.05)\n",
    "\n",
    "def scripted_delta(graph):\n",
    "    \"\"\"Deterministic ΔNFR hook used for documentation smoke checks.\"\"\"\n",
    "    graph.nodes[node][DNFR_PRIMARY] = 0.01\n",
    "    graph.nodes[node][EPI_PRIMARY] += 0.01\n",
    "    graph.nodes[node][VF_PRIMARY] += 0.001\n",
    "    graph.nodes[node][THETA_PRIMARY] += 0.002\n",
    "\n",
    "set_delta_nfr_hook(G, scripted_delta)\n",
    "run_sequence(G, node, [Emission(), Reception(), Coherence(), Resonance(), Transition()])\n",
    "\n",
    "summary = {\n",
    "    \"EPI\": round(G.nodes[node][EPI_PRIMARY], 4),\n",
    "    \"νf\": round(G.nodes[node][VF_PRIMARY], 4),\n",
    "    \"phase\": round(G.nodes[node][THETA_PRIMARY], 4),\n",
    "    \"ΔNFR\": round(G.nodes[node][DNFR_PRIMARY], 4),\n",
    "}\n",
    "summary"
   ]
  }
 ],
 "metadata": {
  "kernelspec": {
   "display_name": "Python 3",
   "language": "python",
   "name": "python3"
  },
  "language_info": {
   "name": "python",
   "version": "3.11"
  }
 },
 "nbformat": 4,
 "nbformat_minor": 5
}
