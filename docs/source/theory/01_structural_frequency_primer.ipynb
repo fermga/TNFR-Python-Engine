{
 "cells": [
  {
   "cell_type": "markdown",
   "metadata": {},
   "id": "921689c2f47d4ac3b7f8d8e42a1f72f5",
   "source": [
    "\n",
    "# Structural frequency primer\n",
    "\n",
    "## Objectives\n",
    "- Characterise how the structural frequency \u03bdf amplifies \u0394NFR to evolve the Primary Information Structure (EPI).\n",
    "- Show how deterministic \u0394NFR hooks orchestrate \u03bdf drift while respecting the nodal equation \u2202EPI/\u2202t = \u03bdf \u00b7 \u0394NFR.\n",
    "- Provide a minimal trace that Phase-2 automation can reuse as a regression guard for frequency regulation.\n",
    "\n",
    "## Phase-2 dependencies\n",
    "- [Phase-2 integration notes](../fase2_integration.md) \u2014 the primer mirrors the scripted hooks expected by the automated \u0394NFR orchestration pipeline.\n",
    "- :mod:`tnfr.dynamics.adaptation` \u2014 \u03bdf adaptation rules remain the same once the Phase-2 controller swaps in its adaptive gains.\n",
    "- :mod:`tnfr.structural` \u2014 operator sequencing is shared across the canonical demos and the Phase-2 integration plan.\n",
    "\n",
    "## Theoretical exposition\n",
    "The nodal equation couples \u0394NFR with \u03bdf so that every glyph application scales reorganisations by the current structural frequency. Holding \u0394NFR constant while perturbing \u03bdf therefore generates measurable changes in \u2202EPI/\u2202t. The primer isolates this dependency: a scripted hook records \u03bdf before each glyph, applies \u0394NFR, and updates EPI by \u03bdf \u00b7 \u0394NFR so the trajectory remains canonical. Tracking the before/after \u03bdf pairs surfaces how even a small deterministic drift reshapes the coherence throughput.\n",
    "\n",
    "## Deterministic smoke check\n",
    "The code cell below instantiates a node, installs a reproducible \u0394NFR hook, and fires the canonical emission\u2192reception\u2192coherence\u2192resonance\u2192transition sequence. The hook captures \u03bdf prior to each glyph so we can assert that the EPI increment equals \u03bdf \u00b7 \u0394NFR at every step. The resulting timeline doubles as a CI smoke test: any future change that perturbs the \u03bdf multiplier or the hook contract will alter the recorded derivatives.\n"
   ]
  },
  {
   "cell_type": "code",
   "execution_count": null,
   "metadata": {},
   "id": "3e517d30d3de495f90feddaff1ebe9bf",
   "outputs": [],
   "source": [
    "\n",
    "from tnfr.constants import DNFR_PRIMARY, EPI_PRIMARY, VF_PRIMARY\n",
    "from tnfr.dynamics import set_delta_nfr_hook\n",
    "from tnfr.structural import Coherence, Emission, Reception, Resonance, Transition, create_nfr, run_sequence\n",
    "\n",
    "G, node = create_nfr(\"frequency-smoke\", epi=0.42, vf=1.8, theta=0.0)\n",
    "trajectory: list[dict[str, float]] = []\n",
    "increments = iter([0.035, 0.028, 0.024, 0.02, 0.018])\n",
    "\n",
    "def scripted_delta(graph):\n",
    "    dnfr = next(increments, 0.015)\n",
    "    nd = graph.nodes[node]\n",
    "    vf_before = float(nd[VF_PRIMARY])\n",
    "    epi_before = float(nd[EPI_PRIMARY])\n",
    "    nd[DNFR_PRIMARY] = dnfr\n",
    "    nd[EPI_PRIMARY] = epi_before + vf_before * dnfr\n",
    "    nd[VF_PRIMARY] = vf_before + 0.05 * dnfr\n",
    "    trajectory.append(\n",
    "        {\n",
    "            \"\u03bdf_before\": round(vf_before, 6),\n",
    "            \"\u0394NFR\": round(dnfr, 6),\n",
    "            \"EPI\": round(nd[EPI_PRIMARY], 6),\n",
    "            \"\u2202EPI/\u2202t\": round(vf_before * dnfr, 6),\n",
    "            \"\u03bdf_after\": round(nd[VF_PRIMARY], 6),\n",
    "        }\n",
    "    )\n",
    "\n",
    "set_delta_nfr_hook(G, scripted_delta, note=\"structural frequency primer smoke\")\n",
    "run_sequence(G, node, [Emission(), Reception(), Coherence(), Resonance(), Transition()])\n",
    "\n",
    "trajectory\n"
   ]
  }
 ],
 "metadata": {
  "kernelspec": {
   "display_name": "Python 3",
   "language": "python",
   "name": "python3"
  },
  "language_info": {
   "name": "python",
   "version": "3.11",
   "mimetype": "text/x-python",
   "codemirror_mode": {
    "name": "ipython",
    "version": 3
   },
   "pygments_lexer": "ipython3"
  }
 },
 "nbformat": 4,
 "nbformat_minor": 5
}