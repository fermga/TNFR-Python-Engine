{
 "cells": [
  {
   "cell_type": "markdown",
   "metadata": {},
   "id": "f50b345ca83c4c1f8fa76858d34d8837",
   "source": [
    "\n",
    "# Sense index calibration\n",
    "\n",
    "## Objectives\n",
    "- Show how Si responds to controlled changes in \u03bdf, \u0394NFR, and phase alignment.\n",
    "- Capture the deterministic \u0394NFR/phase hook required by Phase-2 calibration harnesses.\n",
    "- Provide reproducible Si readings that CI can compare verbatim to detect telemetry regressions.\n",
    "\n",
    "## Phase-2 dependencies\n",
    "- [Phase-2 integration notes](../fase2_integration.md) \u2014 the calibration harness reuses the scripted iterator pattern shown here.\n",
    "- :mod:`tnfr.metrics.sense_index` \u2014 `compute_Si` is the canonical metric entry point for both runtime and analytical tooling.\n",
    "- :mod:`tnfr.structural` \u2014 the operator sequence mirrors the canonical emission\u2192reception\u2192coherence\u2192resonance\u2192transition segment executed before adaptive selectors take over.\n",
    "\n",
    "## Theoretical exposition\n",
    "The sense index Si aggregates three forces: coherence (C), synchrony (phase alignment), and \u0394NFR attenuation. Calibrating Si therefore requires scripted perturbations of \u03bdf, \u03b8, and \u0394NFR so that the resulting readings match expectations. By applying deterministic increments to each node we validate that Si increases for nodes receiving reinforced \u03bdf and tightened phase, and decreases otherwise. This preserves TNFR semantics for the Phase-2 calibration suite.\n",
    "\n",
    "## Deterministic smoke check\n",
    "The code instantiates a triad of nodes, computes baseline Si, then runs the canonical emission\u2192reception\u2192coherence\u2192resonance\u2192transition sequence while the hook iterates through predetermined \u0394NFR, \u03bdf, and phase updates. The resulting before/after dictionary and per-step Si trace must remain stable; any variation signals a regression in Si aggregation or in the \u0394NFR ledger that feeds it.\n"
   ]
  },
  {
   "cell_type": "code",
   "execution_count": null,
   "metadata": {},
   "id": "5efc426110324463add2f2340900132f",
   "outputs": [],
   "source": [
    "\n",
    "from typing import Dict, Iterable, Tuple\n",
    "\n",
    "from tnfr.constants import DNFR_PRIMARY, EPI_PRIMARY, THETA_PRIMARY, VF_PRIMARY\n",
    "from tnfr.dynamics import set_delta_nfr_hook\n",
    "from tnfr.metrics.sense_index import compute_Si\n",
    "from tnfr.structural import Coherence, Emission, Reception, Resonance, Transition, create_nfr, run_sequence\n",
    "\n",
    "G, anchor = create_nfr(\"calibration-anchor\", epi=0.41, vf=1.1, theta=0.0)\n",
    "_, fast = create_nfr(\"calibration-fast\", graph=G, epi=0.37, vf=1.24, theta=0.18)\n",
    "_, slow = create_nfr(\"calibration-slow\", graph=G, epi=0.39, vf=0.96, theta=-0.32)\n",
    "G.add_edge(anchor, fast)\n",
    "G.add_edge(anchor, slow)\n",
    "G.add_edge(fast, slow)\n",
    "\n",
    "scripts: Dict[str, Iterable[Tuple[float, float, float]]] = {\n",
    "    anchor: iter([(0.05, 0.015, 0.04), (0.03, 0.01, 0.02), (0.02, 0.008, 0.015), (0.015, 0.006, 0.01), (0.01, 0.004, 0.008)]),\n",
    "    fast: iter([(0.07, 0.02, -0.03), (0.04, 0.015, -0.02), (0.03, 0.012, -0.015), (0.02, 0.008, -0.01), (0.015, 0.006, -0.008)]),\n",
    "    slow: iter([(0.02, 0.0, 0.05), (0.015, 0.005, 0.03), (0.012, 0.004, 0.02), (0.01, 0.003, 0.015), (0.008, 0.002, 0.01)]),\n",
    "}\n",
    "\n",
    "baseline_si = {node: round(value, 6) for node, value in compute_Si(G, inplace=False).items()}\n",
    "si_trace: list[dict[str, float]] = []\n",
    "\n",
    "\n",
    "def calibration_hook(graph):\n",
    "    for node_id, iterator in scripts.items():\n",
    "        dnfr, vf_shift, theta_shift = next(iterator, (0.0, 0.0, 0.0))\n",
    "        data = graph.nodes[node_id]\n",
    "        vf = float(data[VF_PRIMARY])\n",
    "        epi = float(data[EPI_PRIMARY])\n",
    "        theta = float(data[THETA_PRIMARY])\n",
    "        data[DNFR_PRIMARY] = dnfr\n",
    "        data[EPI_PRIMARY] = epi + vf * dnfr\n",
    "        data[VF_PRIMARY] = vf + vf_shift\n",
    "        data[THETA_PRIMARY] = theta + theta_shift\n",
    "    si_trace.append({node: round(val, 6) for node, val in compute_Si(graph, inplace=False).items()})\n",
    "\n",
    "set_delta_nfr_hook(G, calibration_hook, note=\"sense index calibration smoke\")\n",
    "run_sequence(G, anchor, [Emission(), Reception(), Coherence(), Resonance(), Transition()])\n",
    "calibrated_si = {node: round(value, 6) for node, value in compute_Si(G, inplace=False).items()}\n",
    "\n",
    "{\n",
    "    \"baseline\": baseline_si,\n",
    "    \"calibrated\": calibrated_si,\n",
    "    \"per_step\": si_trace,\n",
    "}\n"
   ]
  }
 ],
 "metadata": {
  "kernelspec": {
   "display_name": "Python 3",
   "language": "python",
   "name": "python3"
  },
  "language_info": {
   "name": "python",
   "version": "3.11",
   "mimetype": "text/x-python",
   "codemirror_mode": {
    "name": "ipython",
    "version": 3
   },
   "pygments_lexer": "ipython3"
  }
 },
 "nbformat": 4,
 "nbformat_minor": 5
}