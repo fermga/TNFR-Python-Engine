{
 "cells": [
  {
   "cell_type": "markdown",
   "id": "bf152bc2",
   "metadata": {},
   "source": [
    "# TNFR overview\n",
    "\n",
    "This notebook summarises the canonical moving parts of the TNFR (resonant fractal nature theory) paradigm. The focus is on how the Primary Information Structure (EPI), structural frequency (νf) and the internal reorganiser ΔNFR weave together to sustain coherent nodes."
   ]
  },
  {
   "cell_type": "markdown",
   "id": "4cb11a37",
   "metadata": {},
   "source": [
    "## Canonical invariants\n",
    "\n",
    "* **EPI coherence** — the node persists only if the Primary Information Structure tracks the ΔNFR-driven reorganisations.\n",
    "* **Structural frequency νf** — expressed in Hz_str; it regulates how rapidly the node adapts to operator inputs.\n",
    "* **Phase alignment** — operators must respect phase synchrony to keep resonance valid.\n",
    "* **ΔNFR logging** — every structural trajectory must expose the ΔNFR contribution applied at each step."
   ]
  },
  {
   "cell_type": "markdown",
   "id": "ff288d79",
   "metadata": {},
   "source": [
    "## Documentation roadmap\n",
    "\n",
    "The overview notebook sits at the top of the TNFR documentation tree. The index and quickstart guides map the first hops towards examples and reference notes:\n",
    "\n",
    "* The [documentation index](../index.md) will grow into the canonical entry point for theory, operations, and release state.\n",
    "* [Quickstart onboarding](../getting-started/quickstart.md) connects the theoretical framing here with executable flows.\n",
    "* [Example playbooks](../examples/README.md) and scenario assets stay aligned with the invariants summarized below.\n",
    "* Theory notebooks in this folder record the proofs, operator derivations, and validation walkthroughs that expand on each invariant.\n",
    "\n",
    "The roadmap prioritises filling those stubs while keeping each addition tied back to the invariants listed above."
   ]
  },
  {
   "cell_type": "markdown",
   "id": "b1e14d32",
   "metadata": {},
   "source": [
    "## Opt-in activation summary\n",
    "\n",
    "The engine still treats advanced operator stacks (self-organisation cascades, resonance window amplification, and stochastic ΔNFR perturbations) as opt-in features. Builders should:\n",
    "\n",
    "* Start with the deterministic hooks illustrated here and in the [foundations primer](../foundations.md) to anchor ΔNFR semantics.\n",
    "* Enable stochastic or multi-node activations explicitly—either through configuration payloads or runtime wiring—so automation retains control of when a node leaves the canonical scripted envelope.\n",
    "* Capture telemetry describing why an activation was granted; this notebook's smoke run mirrors the minimal audit fields (ΔNFR weights, νf, θ) that downstream tooling expects.\n",
    "\n",
    "See the primer for the design goals behind the opt-in policy and the invariants that must hold once optional activations are enabled."
   ]
  },
  {
   "cell_type": "markdown",
   "id": "ca4f1802",
   "metadata": {},
   "source": [
    "## Compatibility guarantees\n",
    "\n",
    "TNFR follows a semantic versioning contract anchored in reproducible coherence traces. In practice this means:\n",
    "\n",
    "* Patch releases stay API-compatible and are safe to absorb in automation once the release notes are reviewed.\n",
    "* Minor releases may extend operator surfaces or telemetry, but they advertise migrations in advance through the [release ledger](../releases.md).\n",
    "* Major releases annotate breaking changes with remediation guides such as the [remesh window migration](../getting-started/migrating-remesh-window.md).\n",
    "\n",
    "When building long-lived notebooks, pin the `tnfr` version and record the ΔNFR hook signature you depend on so CI replicates the same behaviour after upgrades."
   ]
  },
  {
   "cell_type": "markdown",
   "id": "461a0fda",
   "metadata": {},
   "source": [
    "## Computational cost notes\n",
    "\n",
    "Most theoretical notebooks target fast smoke execution to preserve CI latency budgets. Keep in mind:\n",
    "\n",
    "* The scripted example below runs in milliseconds and represents the ceiling for per-notebook smoke budgets.\n",
    "* Operator explorations that require eigen-decompositions should batch them carefully—the `numpy.linalg.eigh` primitive we rely on is `O(N^3)` in the matrix size.\n",
    "* Prefer vectorised helpers showcased in the [example playbooks](../examples/README.md) before reaching for heavier solvers, and gate expensive scans behind explicit benchmark notebooks.\n",
    "\n",
    "Sticking to these constraints keeps the smoke suite reliable while preserving room for deeper exploration notebooks that opt into heavier kernels."
   ]
  },
  {
   "cell_type": "markdown",
   "id": "0da25765",
   "metadata": {},
   "source": [
    "## Smoke check: scripted coherence evolution\n",
    "\n",
    "The example below instantiates a node, attaches a deterministic ΔNFR hook and executes a short trajectory. The hook mirrors a minimal telemetry trace by keeping EPI, νf and the stored ΔNFR aligned after each operator."
   ]
  },
  {
   "cell_type": "code",
   "execution_count": null,
   "id": "bc63b999",
   "metadata": {},
   "outputs": [],
   "source": [
    "from tnfr.constants import DNFR_PRIMARY, EPI_PRIMARY, THETA_PRIMARY, VF_PRIMARY\n",
    "from tnfr.dynamics import set_delta_nfr_hook\n",
    "from tnfr.structural import Coherence, Emission, Reception, Resonance, Transition, create_nfr, run_sequence\n",
    "\n",
    "G, node = create_nfr(\"overview-seed\", epi=0.72, vf=1.1, theta=0.05)\n",
    "\n",
    "def scripted_delta(graph):\n",
    "    \"\"\"Deterministic ΔNFR hook used for documentation smoke checks.\"\"\"\n",
    "    graph.nodes[node][DNFR_PRIMARY] = 0.01\n",
    "    graph.nodes[node][EPI_PRIMARY] += 0.01\n",
    "    graph.nodes[node][VF_PRIMARY] += 0.001\n",
    "    graph.nodes[node][THETA_PRIMARY] += 0.002\n",
    "\n",
    "set_delta_nfr_hook(G, scripted_delta)\n",
    "run_sequence(G, node, [Emission(), Reception(), Coherence(), Resonance(), Transition()])\n",
    "\n",
    "summary = {\n",
    "    \"EPI\": round(G.nodes[node][EPI_PRIMARY], 4),\n",
    "    \"νf\": round(G.nodes[node][VF_PRIMARY], 4),\n",
    "    \"phase\": round(G.nodes[node][THETA_PRIMARY], 4),\n",
    "    \"ΔNFR\": round(G.nodes[node][DNFR_PRIMARY], 4),\n",
    "}\n",
    "summary"
   ]
  }
 ],
 "metadata": {
  "kernelspec": {
   "display_name": "Python 3",
   "language": "python",
   "name": "python3"
  },
  "language_info": {
   "name": "python",
   "version": "3.11"
  }
 },
 "nbformat": 4,
 "nbformat_minor": 5
}
