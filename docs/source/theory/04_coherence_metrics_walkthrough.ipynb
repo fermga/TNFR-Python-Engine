{
 "cells": [
  {
   "cell_type": "markdown",
   "metadata": {},
   "id": "c52602b0e1b742ee9a8f78740ad60d06",
   "source": [
    "\n",
    "# Coherence metrics walkthrough\n",
    "\n",
    "## Objectives\n",
    "- Demonstrate how canonical coherence metrics extract C(t), mean \u0394NFR, and mean \u0394EPI from a running graph.\n",
    "- Show the deterministic telemetry hook required by Phase-2 observability dashboards.\n",
    "- Provide an assertion-friendly timeline that highlights the impact of successive glyph applications on coherence.\n",
    "\n",
    "## Phase-2 dependencies\n",
    "- [Phase-2 integration notes](../fase2_integration.md) \u2014 the coherence snapshots align with the observability contract described there.\n",
    "- :mod:`tnfr.metrics.common` \u2014 Phase-2 dashboards reuse `compute_coherence` verbatim, so the primer doubles as living documentation.\n",
    "- :mod:`tnfr.structural` \u2014 the operator sequencing mirrors the canonical emission\u2192reception\u2192coherence\u2192resonance\u2192transition segment executed by the runtime.\n",
    "\n",
    "## Theoretical exposition\n",
    "Coherence C(t) summarises how stable the network remains under the nodal equation. The accompanying \u0394NFR and \u0394EPI means trace how strongly the lattice is being reorganised. By recording the tuple `(C, mean \u0394NFR, mean \u0394EPI)` before and after deterministic glyph applications we verify that coherence gains correlate with controlled \u0394NFR contributions. Because the hook writes explicit \u0394NFR values, the averages match the scripted increments exactly, isolating the measurement contract used by the Phase-2 monitoring stack.\n",
    "\n",
    "## Deterministic smoke check\n",
    "The walkthrough spawns a two-node graph, applies the canonical emission\u2192reception\u2192coherence\u2192resonance\u2192transition sequence, and records coherence metrics after each glyph. The resulting timeline must show an increasing C(t) while \u0394NFR contributions decay as the scripted iterators exhaust their increments. Any deviation would signal a regression in the coherence aggregator or in the \u0394NFR ledger.\n"
   ]
  },
  {
   "cell_type": "code",
   "execution_count": null,
   "metadata": {},
   "id": "1811fe942f9b4884b748ab46294624c0",
   "outputs": [],
   "source": [
    "\n",
    "from typing import Dict, Iterable, Tuple\n",
    "\n",
    "from tnfr.constants import DNFR_PRIMARY, EPI_PRIMARY, VF_PRIMARY\n",
    "from tnfr.dynamics import set_delta_nfr_hook\n",
    "from tnfr.metrics.common import compute_coherence\n",
    "from tnfr.structural import Coherence, Emission, Reception, Resonance, Transition, create_nfr, run_sequence\n",
    "\n",
    "G, seed = create_nfr(\"coherence-seed\", epi=0.36, vf=1.15, theta=0.05)\n",
    "_, partner = create_nfr(\"coherence-partner\", graph=G, epi=0.33, vf=1.05, theta=-0.02)\n",
    "G.add_edge(seed, partner)\n",
    "\n",
    "increments: Dict[str, Iterable[Tuple[float, float]]] = {\n",
    "    seed: iter([(0.06, 0.02), (0.04, 0.01), (0.03, 0.0), (0.02, -0.005), (0.01, -0.005)]),\n",
    "    partner: iter([(0.03, 0.0), (0.02, -0.005), (0.015, -0.005), (0.01, -0.005), (0.005, -0.005)]),\n",
    "}\n",
    "\n",
    "\n",
    "def snapshot(label: str) -> dict[str, float]:\n",
    "    C, dnfr_mean, depi_mean = compute_coherence(G, return_means=True)\n",
    "    return {\n",
    "        \"label\": label,\n",
    "        \"C\": round(C, 6),\n",
    "        \"\u0394NFR_mean\": round(dnfr_mean, 6),\n",
    "        \"\u0394EPI_mean\": round(depi_mean, 6),\n",
    "    }\n",
    "\n",
    "\n",
    "timeline = [snapshot(\"initial\")]\n",
    "\n",
    "\n",
    "def telemetry_hook(graph):\n",
    "    for node_id, iterator in increments.items():\n",
    "        dnfr, vf_shift = next(iterator, (0.0, 0.0))\n",
    "        data = graph.nodes[node_id]\n",
    "        vf = float(data[VF_PRIMARY])\n",
    "        epi = float(data[EPI_PRIMARY])\n",
    "        data[DNFR_PRIMARY] = dnfr\n",
    "        data[EPI_PRIMARY] = epi + vf * dnfr\n",
    "        data[VF_PRIMARY] = vf + vf_shift\n",
    "    timeline.append(snapshot(f\"step_{len(timeline)}\"))\n",
    "\n",
    "\n",
    "set_delta_nfr_hook(G, telemetry_hook, note=\"coherence metrics smoke\")\n",
    "run_sequence(G, seed, [Emission(), Reception(), Coherence(), Resonance(), Transition()])\n",
    "\n",
    "timeline\n"
   ]
  }
 ],
 "metadata": {
  "kernelspec": {
   "display_name": "Python 3",
   "language": "python",
   "name": "python3"
  },
  "language_info": {
   "name": "python",
   "version": "3.11",
   "mimetype": "text/x-python",
   "codemirror_mode": {
    "name": "ipython",
    "version": 3
   },
   "pygments_lexer": "ipython3"
  }
 },
 "nbformat": 4,
 "nbformat_minor": 5
}