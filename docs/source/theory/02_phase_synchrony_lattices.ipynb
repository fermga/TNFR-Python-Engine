{
 "cells": [
  {
   "cell_type": "markdown",
   "metadata": {},
   "id": "4602723a8eb64ae7a0cfe6de7527a0f9",
   "source": [
    "\n",
    "# Phase synchrony lattices\n",
    "\n",
    "## Objectives\n",
    "- Illustrate how local lattices distribute phase adjustments to converge toward a shared synchrony ridge.\n",
    "- Document the deterministic \u0394NFR hook required by Phase-2 lattice controllers to coordinate \u03bdf, phase, and EPI adjustments.\n",
    "- Provide a measurable synchrony lift that downstream CI can assert without stochastic noise.\n",
    "\n",
    "## Phase-2 dependencies\n",
    "- [Phase-2 integration notes](../fase2_integration.md) \u2014 the lattice coordination contract mirrors the staged deployment plan.\n",
    "- :mod:`tnfr.dynamics.coordination` \u2014 the future lattice supervisor reuses these helpers to compute mean phase envelopes.\n",
    "- :mod:`tnfr.observers` \u2014 `phase_sync` is the agreed telemetry primitive for the lattice health dashboards.\n",
    "\n",
    "## Theoretical exposition\n",
    "A phase synchrony lattice binds neighbouring nodes by iteratively nudging their phases toward a common anchor while respecting \u0394NFR scaling. Each operator pulse captures the global mean phase, applies a weighted correction, and records the induced \u0394NFR so the nodal equation can update EPI consistently. Because synchrony depends on the dispersion of \u03b8 values, even small deterministic corrections shrink the variance and raise the Kuramoto-inspired synchrony index exported by :func:`tnfr.observers.phase_sync`.\n",
    "\n",
    "## Deterministic smoke check\n",
    "The example constructs a star-shaped lattice, records its initial synchrony, and then applies a scripted hook while running the canonical emission\u2192reception\u2192coherence\u2192resonance\u2192transition segment. The hook logs the synchrony index after every glyph so the trace reveals a monotonic lift, confirming that \u0394NFR bookkeeping and phase adjustments remain coherent.\n"
   ]
  },
  {
   "cell_type": "code",
   "execution_count": null,
   "metadata": {},
   "id": "023f5d34ec1448a2b9be76887de74bf6",
   "outputs": [],
   "source": [
    "\n",
    "from statistics import mean\n",
    "\n",
    "from tnfr.constants import DNFR_PRIMARY, EPI_PRIMARY, THETA_PRIMARY, VF_PRIMARY\n",
    "from tnfr.dynamics import set_delta_nfr_hook\n",
    "from tnfr.observers import phase_sync\n",
    "from tnfr.structural import Coherence, Emission, Reception, Resonance, Transition, create_nfr, run_sequence\n",
    "\n",
    "G, anchor = create_nfr(\"lattice-anchor\", epi=0.35, vf=1.1, theta=0.1)\n",
    "neighbors: list[str] = []\n",
    "for idx, offset in enumerate([0.55, -0.42, 0.23, -0.31], start=1):\n",
    "    _, node = create_nfr(f\"lattice-node-{idx}\", epi=0.28 + 0.02 * idx, vf=0.95 + 0.01 * idx, theta=offset, graph=G)\n",
    "    G.add_edge(anchor, node)\n",
    "    neighbors.append(node)\n",
    "\n",
    "before_phases = {n: round(float(G.nodes[n][THETA_PRIMARY]), 6) for n in [anchor, *neighbors]}\n",
    "initial_sync = round(phase_sync(G), 6)\n",
    "synchrony_trace: list[dict[str, float]] = []\n",
    "\n",
    "\n",
    "def align_lattice(graph):\n",
    "    phases = [float(data[THETA_PRIMARY]) for _, data in graph.nodes(data=True)]\n",
    "    mean_phase = mean(phases)\n",
    "    for node_id, data in graph.nodes(data=True):\n",
    "        theta = float(data[THETA_PRIMARY])\n",
    "        offset = mean_phase - theta\n",
    "        data[DNFR_PRIMARY] = abs(offset) * 0.04\n",
    "        data[THETA_PRIMARY] = theta + 0.6 * offset\n",
    "        vf = float(data[VF_PRIMARY])\n",
    "        epi = float(data[EPI_PRIMARY])\n",
    "        data[EPI_PRIMARY] = epi + vf * data[DNFR_PRIMARY] * 0.5\n",
    "    synchrony_trace.append({\n",
    "        \"step\": len(synchrony_trace) + 1,\n",
    "        \"phase_sync\": round(phase_sync(graph), 6),\n",
    "    })\n",
    "\n",
    "set_delta_nfr_hook(G, align_lattice, note=\"phase lattice synchrony smoke\")\n",
    "run_sequence(G, anchor, [Emission(), Reception(), Coherence(), Resonance(), Transition()])\n",
    "\n",
    "after_phases = {n: round(float(G.nodes[n][THETA_PRIMARY]), 6) for n in [anchor, *neighbors]}\n",
    "final_sync = round(phase_sync(G), 6)\n",
    "\n",
    "{\n",
    "    \"initial_sync\": initial_sync,\n",
    "    \"final_sync\": final_sync,\n",
    "    \"before_phases\": before_phases,\n",
    "    \"after_phases\": after_phases,\n",
    "    \"synchrony_trace\": synchrony_trace,\n",
    "}\n"
   ]
  }
 ],
 "metadata": {
  "kernelspec": {
   "display_name": "Python 3",
   "language": "python",
   "name": "python3"
  },
  "language_info": {
   "name": "python",
   "version": "3.11",
   "mimetype": "text/x-python",
   "codemirror_mode": {
    "name": "ipython",
    "version": 3
   },
   "pygments_lexer": "ipython3"
  }
 },
 "nbformat": 4,
 "nbformat_minor": 5
}