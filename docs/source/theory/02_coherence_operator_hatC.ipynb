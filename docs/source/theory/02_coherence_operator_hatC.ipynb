{
 "cells": [
  {
   "cell_type": "markdown",
   "id": "ccebbb3e",
   "metadata": {},
   "source": [
    "# Coherence operator Ĉ\n",
    "\n",
    "The coherence operator redistributes EPI density across resonant modes. Hermiticity guarantees real expectation values, and its spectral floor `c_min` encodes the minimal coherence compatible with structural stability."
   ]
  },
  {
   "cell_type": "markdown",
   "id": "7b7c4c96",
   "metadata": {},
   "source": [
    "## Operator properties\n",
    "\n",
    "* Hermitian matrices ensure real spectra and unitary flows.\n",
    "* Positive semidefinite spectra prevent ΔNFR from collapsing the node.\n",
    "* Expectation values quantify the instantaneous coherence contribution of a state."
   ]
  },
  {
   "cell_type": "markdown",
   "id": "dd1c1715",
   "metadata": {},
   "source": [
    "## Smoke check: spectral diagnostics\n",
    "\n",
    "This example instantiates a modest Hermitian operator, evaluates its spectrum and measures the coherence expectation of a normalized state."
   ]
  },
  {
   "cell_type": "code",
   "execution_count": null,
   "id": "b028f503",
   "metadata": {},
   "outputs": [],
   "source": [
    "import numpy as np\n",
    "\n",
    "from tnfr.mathematics.operators import CoherenceOperator\n",
    "from tnfr.mathematics.spaces import HilbertSpace\n",
    "\n",
    "coherence_matrix = np.array(\n",
    "    [\n",
    "        [0.7, 0.05, 0.0],\n",
    "        [0.05, 0.9, 0.02],\n",
    "        [0.0, 0.02, 0.6],\n",
    "    ],\n",
    "    dtype=np.complex128,\n",
    ")\n",
    "\n",
    "operator = CoherenceOperator(coherence_matrix)\n",
    "space = HilbertSpace(dimension=3)\n",
    "state = np.array([0.6, 0.5, 0.2], dtype=np.complex128)\n",
    "state = state / space.norm(state)\n",
    "\n",
    "expectation_value = operator.expectation(state)\n",
    "\n",
    "{\n",
    "    \"hermitian\": bool(operator.is_hermitian()),\n",
    "    \"positive_semidefinite\": bool(operator.is_positive_semidefinite()),\n",
    "    \"c_min\": round(operator.c_min, 6),\n",
    "    \"expectation\": round(expectation_value, 6),\n",
    "}\n"
   ]
  }
 ],
 "metadata": {
  "kernelspec": {
   "display_name": "Python 3",
   "language": "python",
   "name": "python3"
  },
  "language_info": {
   "name": "python",
   "version": "3.11"
  }
 },
 "nbformat": 4,
 "nbformat_minor": 5
}