{
  "cells": [
    {
      "cell_type": "markdown",
      "metadata": {},
      "id": "e7872b326da64f0a945cfe9c9b052c38",
      "source": [
        "# \u0394NFR gradient fields\n",
        "\n",
        "Track \u0394NFR modulation under canonical hooks.\n"
      ]
    },
    {
      "cell_type": "code",
      "execution_count": null,
      "metadata": {},
      "id": "f1e386bf7bf14e478dc4c4c139a92926",
      "outputs": [],
      "source": [
        "# TODO: implement walkthrough cells\n"
      ]
    }
  ],
  "metadata": {
    "kernelspec": {
      "display_name": "Python 3",
      "language": "python",
      "name": "python3"
    },
    "language_info": {
      "name": "python",
      "version": "3.11",
      "mimetype": "text/x-python",
      "codemirror_mode": {
        "name": "ipython",
        "version": 3
      },
      "pygments_lexer": "ipython3"
    }
  },
  "nbformat": 4,
  "nbformat_minor": 5
}
