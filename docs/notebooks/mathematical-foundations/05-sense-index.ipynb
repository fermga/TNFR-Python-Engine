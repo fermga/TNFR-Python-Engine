{
  "cells": [
    {
      "cell_type": "markdown",
      "metadata": {},
      "id": "e7c821351cd449b0b45248e3c2f0c1ef",
      "source": [
        "# Sense index calibration\n",
        "\n",
        "Stabilise Si measurements across nodes.\n"
      ]
    },
    {
      "cell_type": "code",
      "execution_count": null,
      "metadata": {},
      "id": "9b660e64caaf42cea6c2033a2e54e791",
      "outputs": [],
      "source": [
        "# TODO: implement walkthrough cells\n"
      ]
    }
  ],
  "metadata": {
    "kernelspec": {
      "display_name": "Python 3",
      "language": "python",
      "name": "python3"
    },
    "language_info": {
      "name": "python",
      "version": "3.11",
      "mimetype": "text/x-python",
      "codemirror_mode": {
        "name": "ipython",
        "version": 3
      },
      "pygments_lexer": "ipython3"
    }
  },
  "nbformat": 4,
  "nbformat_minor": 5
}
