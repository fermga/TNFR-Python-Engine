{
  "cells": [
    {
      "cell_type": "markdown",
      "metadata": {},
      "id": "27a91898bf1d4ca4adc7efdea3b8eeef",
      "source": [
        "# Recursivity cascades\n",
        "\n",
        "Map nested EPIs without breaking fractality.\n"
      ]
    },
    {
      "cell_type": "code",
      "execution_count": null,
      "metadata": {},
      "id": "82d37b00ba6b4521ba6807027ca88e37",
      "outputs": [],
      "source": [
        "# TODO: implement walkthrough cells\n"
      ]
    }
  ],
  "metadata": {
    "kernelspec": {
      "display_name": "Python 3",
      "language": "python",
      "name": "python3"
    },
    "language_info": {
      "name": "python",
      "version": "3.11",
      "mimetype": "text/x-python",
      "codemirror_mode": {
        "name": "ipython",
        "version": 3
      },
      "pygments_lexer": "ipython3"
    }
  },
  "nbformat": 4,
  "nbformat_minor": 5
}
